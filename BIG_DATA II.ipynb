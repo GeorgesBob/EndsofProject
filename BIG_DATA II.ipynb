{
 "cells": [
  {
   "cell_type": "code",
   "execution_count": 3,
   "id": "7736d47c",
   "metadata": {},
   "outputs": [],
   "source": [
    "from sklearn import preprocessing\n",
    "from sklearn.model_selection import train_test_split\n",
    "from sklearn.neighbors import KNeighborsClassifier\n",
    "import matplotlib.pyplot as plt\n",
    "import seaborn as sns\n",
    "import pandas as pd\n",
    "import numpy as np\n",
    "import seaborn as sns"
   ]
  },
  {
   "cell_type": "code",
   "execution_count": 4,
   "id": "ad7d00bb",
   "metadata": {},
   "outputs": [
    {
     "data": {
      "text/plain": [
       "Unnamed: 0        int64\n",
       "Id               object\n",
       "Genre            object\n",
       "Colors           object\n",
       "Faces             int64\n",
       "Gender           object\n",
       "Age              object\n",
       "Race             object\n",
       "Emotions         object\n",
       "Text position    object\n",
       "dtype: object"
      ]
     },
     "execution_count": 4,
     "metadata": {},
     "output_type": "execute_result"
    }
   ],
   "source": [
    "df1 = pd.read_csv(r'C:\\Users\\georges\\OneDrive\\Desktop\\ownProject\\model\\train_first_part_nostradamovies.csv')\n",
    "df2 = pd.read_csv(r'C:\\Users\\georges\\OneDrive\\Desktop\\ownProject\\model\\train_second_part_nostradamovies.csv')\n",
    "df1.dtypes"
   ]
  },
  {
   "cell_type": "code",
   "execution_count": 5,
   "id": "c091b8df",
   "metadata": {},
   "outputs": [
    {
     "name": "stdout",
     "output_type": "stream",
     "text": [
      "['Comedy', 'Drama', 'Romance', 'Music', 'Sci-Fi', 'Thriller', 'Action', 'Adventure', 'Crime', 'Horror', 'Musical', 'Biography', 'History', 'Mystery', 'Fantasy', 'Family', 'Sport', 'War', 'Animation', 'Documentary', 'Western', 'Short', 'N/A', 'Reality-TV', 'News', 'Film-Noir']\n"
     ]
    }
   ],
   "source": [
    "# Get all genre\n",
    "def get_unique_genre(df, uniques_genre):\n",
    "    for genres in df['Genre'].unique():\n",
    "        g = genres.replace('[', '').replace(']', '').replace(\"'\", '').replace(' ', '').split(',')\n",
    "        for genre in g:\n",
    "            if genre not in uniques_genre:\n",
    "                uniques_genre.append(genre)\n",
    "    return uniques_genre\n",
    "\n",
    "\n",
    "uniques_genre = get_unique_genre(df2, get_unique_genre(df1, []))\n",
    "print(uniques_genre)"
   ]
  },
  {
   "cell_type": "code",
   "execution_count": 6,
   "id": "b21672f4",
   "metadata": {},
   "outputs": [
    {
     "name": "stdout",
     "output_type": "stream",
     "text": [
      "['neutral', 'happy', 'sad', 'surprise', 'fear', 'angry', 'disgust']\n"
     ]
    },
    {
     "name": "stderr",
     "output_type": "stream",
     "text": [
      "<>:6: SyntaxWarning: \"is not\" with a literal. Did you mean \"!=\"?\n",
      "<>:6: SyntaxWarning: \"is not\" with a literal. Did you mean \"!=\"?\n",
      "C:\\Users\\georges\\AppData\\Local\\Temp\\ipykernel_7312\\513476636.py:6: SyntaxWarning: \"is not\" with a literal. Did you mean \"!=\"?\n",
      "  if emotion.strip() is not '':\n"
     ]
    }
   ],
   "source": [
    "# Get all emotions\n",
    "def get_unique_emotions(df, unique_emotion):\n",
    "    for emotions in df['Emotions'].unique():\n",
    "        e = emotions.replace('[', '').replace(']', '').replace(\"'\", '').split(',')\n",
    "        for emotion in e:\n",
    "            if emotion.strip() is not '':\n",
    "                if emotion.strip() not in unique_emotion:\n",
    "                    unique_emotion.append(emotion.strip())\n",
    "    return unique_emotion\n",
    "\n",
    "uniques_emotions = get_unique_emotions(df2, get_unique_emotions(df1, []))\n",
    "print(uniques_emotions)"
   ]
  },
  {
   "cell_type": "code",
   "execution_count": 7,
   "id": "ef66040c",
   "metadata": {},
   "outputs": [],
   "source": [
    "def bool_genre(genres):\n",
    "    gs = genres.replace('[', '').replace(']', '').replace(\"'\", '').replace(' ', '').split(',')\n",
    "    genres = uniques_genre\n",
    "    bools = {}\n",
    "    for genre in genres:\n",
    "        if genre in gs:\n",
    "            bools.update({\n",
    "                genre: 1\n",
    "            })\n",
    "        else:\n",
    "            bools.update({\n",
    "                genre: 0\n",
    "            })\n",
    "    return bools"
   ]
  },
  {
   "cell_type": "code",
   "execution_count": 8,
   "id": "80714b2a",
   "metadata": {},
   "outputs": [],
   "source": [
    "def number_race(races):\n",
    "    number = {}\n",
    "    for race in unique_races:\n",
    "        number.update({\n",
    "            'Number_of_' + race: races.count(race)\n",
    "        })\n",
    "    return number"
   ]
  },
  {
   "cell_type": "code",
   "execution_count": 9,
   "id": "ff7aaae8",
   "metadata": {},
   "outputs": [],
   "source": [
    "def number_emotions(emotions):\n",
    "    number = {}\n",
    "    for emotion in uniques_emotions:\n",
    "        number.update({\n",
    "            'Number_of_' + emotion: emotions.count(emotion)\n",
    "        })\n",
    "    return number"
   ]
  },
  {
   "cell_type": "code",
   "execution_count": 10,
   "id": "3d347866",
   "metadata": {},
   "outputs": [
    {
     "name": "stdout",
     "output_type": "stream",
     "text": [
      "['asian', 'white', 'black', 'latino hispanic', 'middle eastern', 'indian']\n"
     ]
    },
    {
     "name": "stderr",
     "output_type": "stream",
     "text": [
      "<>:6: SyntaxWarning: \"is not\" with a literal. Did you mean \"!=\"?\n",
      "<>:6: SyntaxWarning: \"is not\" with a literal. Did you mean \"!=\"?\n",
      "C:\\Users\\georges\\AppData\\Local\\Temp\\ipykernel_7312\\2719350043.py:6: SyntaxWarning: \"is not\" with a literal. Did you mean \"!=\"?\n",
      "  if race.strip() is not '':\n"
     ]
    }
   ],
   "source": [
    "# Get all race\n",
    "def get_unique_race(df, unique_race):\n",
    "    for races in df['Race'].unique():\n",
    "        r = races.replace('[', '').replace(']', '').replace(\"'\", '').split(',')\n",
    "        for race in r:\n",
    "            if race.strip() is not '':\n",
    "                if race.strip() not in unique_race:\n",
    "                    unique_race.append(race.strip())\n",
    "    return unique_race\n",
    " \n",
    "unique_races = get_unique_race(df2, get_unique_race(df1, []))\n",
    "print(unique_races)"
   ]
  },
  {
   "cell_type": "code",
   "execution_count": 11,
   "id": "abd20b53",
   "metadata": {},
   "outputs": [],
   "source": [
    "def number_emotions(emotions):\n",
    "    number = {}\n",
    "    for emotion in uniques_emotions:\n",
    "        number.update({\n",
    "            'Number_of_' + emotion: emotions.count(emotion)\n",
    "        })\n",
    "    return number"
   ]
  },
  {
   "cell_type": "code",
   "execution_count": 12,
   "id": "1f96b15b",
   "metadata": {},
   "outputs": [],
   "source": [
    "def get_numbers_man_woman(genders):\n",
    "    return {\n",
    "        'Number_man': genders.count('Man'),\n",
    "        'Number_woman': genders.count('Woman')\n",
    "    }"
   ]
  },
  {
   "cell_type": "code",
   "execution_count": 13,
   "id": "b07c50a2",
   "metadata": {},
   "outputs": [],
   "source": [
    "import ast\n",
    "\n",
    "def get_average_age(ages):\n",
    "    ages_obj = ast.literal_eval(ages)\n",
    "    total_ages = 0\n",
    "    number_of_ages = 0\n",
    "    for age in ages_obj:\n",
    "        total_ages = total_ages + age['age']\n",
    "        number_of_ages = number_of_ages + 1\n",
    "    if number_of_ages == 0:\n",
    "        return {\n",
    "            'Average_age': 0\n",
    "        }\n",
    "    return {\n",
    "        'Average_age': round(total_ages/number_of_ages)\n",
    "    }"
   ]
  },
  {
   "cell_type": "code",
   "execution_count": 14,
   "id": "c660b03a",
   "metadata": {},
   "outputs": [],
   "source": [
    "def get_positions_text(text_position):\n",
    "    return {\n",
    "        'Text_bottom': text_position.count('bottom'),\n",
    "        'Text_top': text_position.count('top')\n",
    "    }"
   ]
  },
  {
   "cell_type": "code",
   "execution_count": 15,
   "id": "6caf43d7",
   "metadata": {},
   "outputs": [],
   "source": [
    "from ast import literal_eval\n",
    "#(r * 256 * 256) + (g * 256) + b\n",
    "\n",
    "def get_colors(colors_string):\n",
    "    colors = literal_eval(colors_string.replace('[', '').replace(']', ''))\n",
    "    return {\n",
    "        'Color_1': (colors[0][0] * 256 * 256) + (colors[0][1] * 256) + colors[0][2],\n",
    "        'Color_2': (colors[1][0] * 256 * 256) + (colors[1][1] * 256) + colors[1][2],\n",
    "        'Color_3': (colors[2][0] * 256 * 256) + (colors[2][1] * 256) + colors[2][2]\n",
    "    }"
   ]
  },
  {
   "cell_type": "code",
   "execution_count": 205,
   "id": "89057afb",
   "metadata": {},
   "outputs": [
    {
     "name": "stdout",
     "output_type": "stream",
     "text": [
      "   Comedy  Drama  Romance  Music  Sci-Fi  Thriller  Action  Adventure  Crime  \\\n",
      "0       1      1        0      0       0         0       0          0      0   \n",
      "1       0      1        1      1       0         0       0          0      0   \n",
      "2       1      0        0      0       0         0       0          0      0   \n",
      "3       0      0        0      0       1         1       0          0      0   \n",
      "4       0      0        0      0       0         1       1          1      0   \n",
      "\n",
      "   Horror  ...  Number_of_indian  Number_of_neutral  Number_of_happy  \\\n",
      "0       0  ...                 0                  1                1   \n",
      "1       0  ...                 0                  0                0   \n",
      "2       0  ...                 0                  1                3   \n",
      "3       0  ...                 0                  0                0   \n",
      "4       0  ...                 0                  2                0   \n",
      "\n",
      "   Number_of_sad  Number_of_surprise  Number_of_fear  Number_of_angry  \\\n",
      "0              0                   0               0                0   \n",
      "1              1                   0               0                0   \n",
      "2              0                   0               0                0   \n",
      "3              0                   1               1                0   \n",
      "4              0                   0               0                0   \n",
      "\n",
      "   Number_of_disgust  Text_bottom  Text_top  \n",
      "0                  0            0         1  \n",
      "1                  0            0         1  \n",
      "2                  0            0         1  \n",
      "3                  0            1         0  \n",
      "4                  0            1         1  \n",
      "\n",
      "[5 rows x 48 columns]\n"
     ]
    },
    {
     "data": {
      "text/plain": [
       "8272"
      ]
     },
     "execution_count": 205,
     "metadata": {},
     "output_type": "execute_result"
    }
   ],
   "source": [
    "final_dataset = []\n",
    "\n",
    "def fead_final_dataset(df):\n",
    "    for index, value in df.iterrows():\n",
    "        row = bool_genre(value['Genre'])\n",
    "        row.update(get_colors(value['Colors']))\n",
    "        row.update({\n",
    "            'Faces': value['Faces']\n",
    "        })\n",
    "        row.update(get_numbers_man_woman(value['Gender']))\n",
    "        row.update(get_average_age(value['Age']))\n",
    "        row.update(number_race(value['Race']))\n",
    "        row.update(number_emotions(value['Emotions']))\n",
    "        row.update(get_positions_text(value['Text position']))\n",
    "        final_dataset.append(row)\n",
    "        \n",
    "fead_final_dataset(df1)\n",
    "fead_final_dataset(df2)\n",
    "\n",
    "final_dataset = pd.DataFrame(data=final_dataset)\n",
    "\n",
    "print(final_dataset.head())\n",
    "len(final_dataset)"
   ]
  },
  {
   "cell_type": "code",
   "execution_count": 131,
   "id": "ebc940d5",
   "metadata": {},
   "outputs": [
    {
     "data": {
      "text/plain": [
       "Comedy  Drama  Romance  Music  Sci-Fi  Thriller  Action  Adventure  Crime  Horror  Musical  Biography  History  Mystery  Fantasy  Family  Sport  War  Animation  Documentary  Western  Short  N/A  Reality-TV  News  Film-Noir  Color_1   Color_2   Color_3   Faces  Number_man  Number_woman  Average_age  Number_of_asian  Number_of_white  Number_of_black  Number_of_latino hispanic  Number_of_middle eastern  Number_of_indian  Number_of_neutral  Number_of_happy  Number_of_sad  Number_of_surprise  Number_of_fear  Number_of_angry  Number_of_disgust  Text_bottom  Text_top\n",
       "1       0      0        0      0       0         0       0          0      0       0        0          0        0        0        0       0      0    0          0            0        1      0    0           0     0          14730059  4404513   16054224  0      0           0             0            0                0                0                0                          0                         0                 0                  0                0              0                   0               0                0                  0            0           4\n",
       "                                                                                                                                                                                                                                13475978  4335141   6962483   3      3           0             28           0                2                0                0                          1                         0                 1                  0                1              1                   0               0                0                  0            0           3\n",
       "               1        0      0       0         0       0          0      0       1        0          0        0        0        0       0      0    0          0            0        0      0    0           0     0          6510191   13813714  11316396  1      1           0             26           1                0                0                0                          0                         0                 1                  0                0              0                   0               0                0                  1            0           2\n",
       "0       1      1        0      0       1         0       0          0      0       0        0          0        0        0        0       0      0    0          0            0        0      0    0           0     0          13422525  2699609   7628360   2      2           0             45           1                1                0                0                          0                         0                 1                  1                0              0                   0               0                0                  0            0           2\n",
       "        0      0        0      0       1         1       1          0      0       0        0          0        0        0        0       0      0    0          0            0        0      0    0           0     0          3942424   14466714  10526594  1      1           0             50           0                0                1                0                          0                         0                 1                  0                0              0                   0               0                0                  0            0           2\n",
       "                                                                                                                                                                                                                                                                                                                                                                                                                                                                                                                                                                                         ..\n",
       "        1      0        0      0       0         0       0          0      0       0        0          0        1        1        0       0      0    0          0            0        0      0    0           0     0          1846611   13954032  7452120   1      1           0             30           0                0                1                0                          0                         0                 0                  0                0              0                   1               0                0                  0            0           1\n",
       "                                                                                                                                                                                                                                1585223   7840970   10397584  0      0           0             0            0                0                0                0                          0                         0                 0                  0                0              0                   0               0                0                  0            0           1\n",
       "                                                                                                                                                                                                                                1319724   13818580  750758    0      0           0             0            0                0                0                0                          0                         0                 0                  0                0              0                   0               0                0                  1            1           1\n",
       "                                                                                                                         0        0       0      0    0          0            0        1      0    0           0     0          657672    11243903  7433580   0      0           0             0            0                0                0                0                          0                         0                 0                  0                0              0                   0               0                0                  0            1           1\n",
       "1       1      1        0      0       0         0       0          0      0       0        0          0        0        0        0       0      0    0          0            0        0      0    0           0     0          15922161  3486272   9458001   2      1           1             26           1                1                0                0                          0                         0                 1                  1                0              0                   0               0                0                  1            0           1\n",
       "Length: 8228, dtype: int64"
      ]
     },
     "execution_count": 131,
     "metadata": {},
     "output_type": "execute_result"
    }
   ],
   "source": [
    "final_dataset"
   ]
  },
  {
   "cell_type": "code",
   "execution_count": 215,
   "id": "bf15a961",
   "metadata": {},
   "outputs": [
    {
     "name": "stdout",
     "output_type": "stream",
     "text": [
      "ddddddddd Comedy\n",
      "0         5000\n",
      "1         3272\n",
      "dtype: int64\n",
      "3272\n",
      "1632\n",
      "8228\n",
      "0.5960136120563928\n",
      "                                                      num_happy_face  \\\n",
      "number_per_comedy  Number_of_happy\n",
      "0                  5775\n",
      "1     ...   \n",
      "\n",
      "                                                    num_genre_comedy  \n",
      "number_per_comedy  Comedy\n",
      "0         5000\n",
      "1         3272\n",
      "dtype: int64  \n"
     ]
    }
   ],
   "source": [
    "#le nombre de visage happy par genre de film\n",
    "happy_data = final_dataset.filter(like='Number_of_happy')\n",
    "fi\n",
    "genre_comedy_data = final_dataset.filter(like='Comedy')\n",
    "\n",
    "count_comedy = genre_comedy_data.value_counts()\n",
    "print(\"ddddddddd\",count_comedy)\n",
    "c_c = count_comedy.values[1]\n",
    "print(c_c)\n",
    "count_happy_data = happy_data.value_counts()\n",
    "c_h = count_happy_data.values[1]\n",
    "print(c_h)\n",
    "\n",
    "count_final_dataset = final_dataset.value_counts()\n",
    "print(len(count_final_dataset))\n",
    "c_f = len(count_final_dataset) \n",
    "\n",
    "count_number_happy_face_per_comedy = (c_c + c_h)/c_f\n",
    "print(count_number_happy_face_per_comedy)\n",
    "\n",
    "df_cc_ch = pd.DataFrame({'num_happy_face': [count_happy_data],\n",
    "                   'num_genre_comedy': [count_comedy]},\n",
    "                  index=['number_per_comedy'])\n",
    "print(df_cc_ch)"
   ]
  },
  {
   "cell_type": "code",
   "execution_count": 127,
   "id": "5645d529",
   "metadata": {},
   "outputs": [
    {
     "ename": "AttributeError",
     "evalue": "'Series' object has no attribute 'columns'",
     "output_type": "error",
     "traceback": [
      "\u001b[1;31m---------------------------------------------------------------------------\u001b[0m",
      "\u001b[1;31mAttributeError\u001b[0m                            Traceback (most recent call last)",
      "Input \u001b[1;32mIn [127]\u001b[0m, in \u001b[0;36m<cell line: 1>\u001b[1;34m()\u001b[0m\n\u001b[1;32m----> 1\u001b[0m \u001b[38;5;28;01mfor\u001b[39;00m col \u001b[38;5;129;01min\u001b[39;00m \u001b[43mhappy_data\u001b[49m\u001b[38;5;241;43m.\u001b[39;49m\u001b[43mcolumns\u001b[49m[\u001b[38;5;241m1\u001b[39m:\u001b[38;5;241m-\u001b[39m\u001b[38;5;241m1\u001b[39m]:\n\u001b[0;32m      2\u001b[0m     counts \u001b[38;5;241m=\u001b[39m happy_data\u001b[38;5;241m.\u001b[39mvalue_counts(dropna\u001b[38;5;241m=\u001b[39m\u001b[38;5;28;01mTrue\u001b[39;00m, sort\u001b[38;5;241m=\u001b[39m\u001b[38;5;28;01mTrue\u001b[39;00m)\u001b[38;5;241m.\u001b[39mto_frame()[:\u001b[38;5;241m2\u001b[39m]\n\u001b[0;32m      3\u001b[0m     \u001b[38;5;28mprint\u001b[39m(counts\u001b[38;5;241m.\u001b[39mvalues[\u001b[38;5;241m1\u001b[39m])\n",
      "File \u001b[1;32m~\\AppData\\Local\\Programs\\Python\\Python310\\lib\\site-packages\\pandas\\core\\generic.py:5583\u001b[0m, in \u001b[0;36mNDFrame.__getattr__\u001b[1;34m(self, name)\u001b[0m\n\u001b[0;32m   5576\u001b[0m \u001b[38;5;28;01mif\u001b[39;00m (\n\u001b[0;32m   5577\u001b[0m     name \u001b[38;5;129;01mnot\u001b[39;00m \u001b[38;5;129;01min\u001b[39;00m \u001b[38;5;28mself\u001b[39m\u001b[38;5;241m.\u001b[39m_internal_names_set\n\u001b[0;32m   5578\u001b[0m     \u001b[38;5;129;01mand\u001b[39;00m name \u001b[38;5;129;01mnot\u001b[39;00m \u001b[38;5;129;01min\u001b[39;00m \u001b[38;5;28mself\u001b[39m\u001b[38;5;241m.\u001b[39m_metadata\n\u001b[0;32m   5579\u001b[0m     \u001b[38;5;129;01mand\u001b[39;00m name \u001b[38;5;129;01mnot\u001b[39;00m \u001b[38;5;129;01min\u001b[39;00m \u001b[38;5;28mself\u001b[39m\u001b[38;5;241m.\u001b[39m_accessors\n\u001b[0;32m   5580\u001b[0m     \u001b[38;5;129;01mand\u001b[39;00m \u001b[38;5;28mself\u001b[39m\u001b[38;5;241m.\u001b[39m_info_axis\u001b[38;5;241m.\u001b[39m_can_hold_identifiers_and_holds_name(name)\n\u001b[0;32m   5581\u001b[0m ):\n\u001b[0;32m   5582\u001b[0m     \u001b[38;5;28;01mreturn\u001b[39;00m \u001b[38;5;28mself\u001b[39m[name]\n\u001b[1;32m-> 5583\u001b[0m \u001b[38;5;28;01mreturn\u001b[39;00m \u001b[38;5;28;43mobject\u001b[39;49m\u001b[38;5;241;43m.\u001b[39;49m\u001b[38;5;21;43m__getattribute__\u001b[39;49m\u001b[43m(\u001b[49m\u001b[38;5;28;43mself\u001b[39;49m\u001b[43m,\u001b[49m\u001b[43m \u001b[49m\u001b[43mname\u001b[49m\u001b[43m)\u001b[49m\n",
      "\u001b[1;31mAttributeError\u001b[0m: 'Series' object has no attribute 'columns'"
     ]
    }
   ],
   "source": [
    "for col in happy_data.columns[1:-1]:\n",
    "    counts = happy_data.value_counts(dropna=True, sort=True).to_frame()[:2]\n",
    "    print(counts.values[1])\n",
    "    plt.figure(figsize=(8, 5))\n",
    "    sns.barplot(y=col, x=counts.index, palette=\"Blues_d\", order=counts.index, data=counts)\n",
    "    plt.xticks(rotation=90)\n",
    "    plt.show()\n",
    "    \n",
    "    "
   ]
  },
  {
   "cell_type": "code",
   "execution_count": 225,
   "id": "84f905f3",
   "metadata": {},
   "outputs": [
    {
     "ename": "ValueError",
     "evalue": "Could not interpret input 'abbrev'",
     "output_type": "error",
     "traceback": [
      "\u001b[1;31m---------------------------------------------------------------------------\u001b[0m",
      "\u001b[1;31mValueError\u001b[0m                                Traceback (most recent call last)",
      "Input \u001b[1;32mIn [225]\u001b[0m, in \u001b[0;36m<cell line: 7>\u001b[1;34m()\u001b[0m\n\u001b[0;32m      5\u001b[0m faces \u001b[38;5;241m=\u001b[39m final_dataset\u001b[38;5;241m.\u001b[39msort_values(\u001b[38;5;124m\"\u001b[39m\u001b[38;5;124mFaces\u001b[39m\u001b[38;5;124m\"\u001b[39m, ascending\u001b[38;5;241m=\u001b[39m\u001b[38;5;28;01mFalse\u001b[39;00m)\n\u001b[0;32m      6\u001b[0m sns\u001b[38;5;241m.\u001b[39mset_color_codes(\u001b[38;5;124m\"\u001b[39m\u001b[38;5;124mmuted\u001b[39m\u001b[38;5;124m\"\u001b[39m)\n\u001b[1;32m----> 7\u001b[0m \u001b[43msns\u001b[49m\u001b[38;5;241;43m.\u001b[39;49m\u001b[43mbarplot\u001b[49m\u001b[43m(\u001b[49m\u001b[43mx\u001b[49m\u001b[38;5;241;43m=\u001b[39;49m\u001b[38;5;124;43m\"\u001b[39;49m\u001b[38;5;124;43mFaces\u001b[39;49m\u001b[38;5;124;43m\"\u001b[39;49m\u001b[43m,\u001b[49m\u001b[43m \u001b[49m\u001b[43my\u001b[49m\u001b[38;5;241;43m=\u001b[39;49m\u001b[38;5;124;43m\"\u001b[39;49m\u001b[38;5;124;43mabbrev\u001b[39;49m\u001b[38;5;124;43m\"\u001b[39;49m\u001b[43m,\u001b[49m\u001b[43m \u001b[49m\u001b[43mdata\u001b[49m\u001b[38;5;241;43m=\u001b[39;49m\u001b[43mfaces\u001b[49m\u001b[43m,\u001b[49m\n\u001b[0;32m      8\u001b[0m \u001b[43m            \u001b[49m\u001b[43mlabel\u001b[49m\u001b[38;5;241;43m=\u001b[39;49m\u001b[38;5;124;43m\"\u001b[39;49m\u001b[38;5;124;43mgenre\u001b[39;49m\u001b[38;5;124;43m\"\u001b[39;49m\u001b[43m,\u001b[49m\u001b[43m \u001b[49m\u001b[43mcolor\u001b[49m\u001b[38;5;241;43m=\u001b[39;49m\u001b[38;5;124;43m\"\u001b[39;49m\u001b[38;5;124;43mb\u001b[39;49m\u001b[38;5;124;43m\"\u001b[39;49m\u001b[43m)\u001b[49m\n\u001b[0;32m      9\u001b[0m ax\u001b[38;5;241m.\u001b[39mlegend(ncol\u001b[38;5;241m=\u001b[39m\u001b[38;5;241m2\u001b[39m, loc\u001b[38;5;241m=\u001b[39m\u001b[38;5;124m\"\u001b[39m\u001b[38;5;124mlower right\u001b[39m\u001b[38;5;124m\"\u001b[39m, frameon\u001b[38;5;241m=\u001b[39m\u001b[38;5;28;01mTrue\u001b[39;00m)\n\u001b[0;32m     10\u001b[0m ax\u001b[38;5;241m.\u001b[39mset(xlim\u001b[38;5;241m=\u001b[39m(\u001b[38;5;241m0\u001b[39m, \u001b[38;5;241m24\u001b[39m), ylabel\u001b[38;5;241m=\u001b[39m\u001b[38;5;124m\"\u001b[39m\u001b[38;5;124m\"\u001b[39m,\n\u001b[0;32m     11\u001b[0m        xlabel\u001b[38;5;241m=\u001b[39m\u001b[38;5;124m\"\u001b[39m\u001b[38;5;124mAutomobile collisions per billion miles\u001b[39m\u001b[38;5;124m\"\u001b[39m)\n",
      "File \u001b[1;32m~\\AppData\\Local\\Programs\\Python\\Python310\\lib\\site-packages\\seaborn\\_decorators.py:46\u001b[0m, in \u001b[0;36m_deprecate_positional_args.<locals>.inner_f\u001b[1;34m(*args, **kwargs)\u001b[0m\n\u001b[0;32m     36\u001b[0m     warnings\u001b[38;5;241m.\u001b[39mwarn(\n\u001b[0;32m     37\u001b[0m         \u001b[38;5;124m\"\u001b[39m\u001b[38;5;124mPass the following variable\u001b[39m\u001b[38;5;132;01m{}\u001b[39;00m\u001b[38;5;124m as \u001b[39m\u001b[38;5;132;01m{}\u001b[39;00m\u001b[38;5;124mkeyword arg\u001b[39m\u001b[38;5;132;01m{}\u001b[39;00m\u001b[38;5;124m: \u001b[39m\u001b[38;5;132;01m{}\u001b[39;00m\u001b[38;5;124m. \u001b[39m\u001b[38;5;124m\"\u001b[39m\n\u001b[0;32m     38\u001b[0m         \u001b[38;5;124m\"\u001b[39m\u001b[38;5;124mFrom version 0.12, the only valid positional argument \u001b[39m\u001b[38;5;124m\"\u001b[39m\n\u001b[1;32m   (...)\u001b[0m\n\u001b[0;32m     43\u001b[0m         \u001b[38;5;167;01mFutureWarning\u001b[39;00m\n\u001b[0;32m     44\u001b[0m     )\n\u001b[0;32m     45\u001b[0m kwargs\u001b[38;5;241m.\u001b[39mupdate({k: arg \u001b[38;5;28;01mfor\u001b[39;00m k, arg \u001b[38;5;129;01min\u001b[39;00m \u001b[38;5;28mzip\u001b[39m(sig\u001b[38;5;241m.\u001b[39mparameters, args)})\n\u001b[1;32m---> 46\u001b[0m \u001b[38;5;28;01mreturn\u001b[39;00m f(\u001b[38;5;241m*\u001b[39m\u001b[38;5;241m*\u001b[39mkwargs)\n",
      "File \u001b[1;32m~\\AppData\\Local\\Programs\\Python\\Python310\\lib\\site-packages\\seaborn\\categorical.py:3182\u001b[0m, in \u001b[0;36mbarplot\u001b[1;34m(x, y, hue, data, order, hue_order, estimator, ci, n_boot, units, seed, orient, color, palette, saturation, errcolor, errwidth, capsize, dodge, ax, **kwargs)\u001b[0m\n\u001b[0;32m   3169\u001b[0m \u001b[38;5;129m@_deprecate_positional_args\u001b[39m\n\u001b[0;32m   3170\u001b[0m \u001b[38;5;28;01mdef\u001b[39;00m \u001b[38;5;21mbarplot\u001b[39m(\n\u001b[0;32m   3171\u001b[0m     \u001b[38;5;241m*\u001b[39m,\n\u001b[1;32m   (...)\u001b[0m\n\u001b[0;32m   3179\u001b[0m     \u001b[38;5;241m*\u001b[39m\u001b[38;5;241m*\u001b[39mkwargs,\n\u001b[0;32m   3180\u001b[0m ):\n\u001b[1;32m-> 3182\u001b[0m     plotter \u001b[38;5;241m=\u001b[39m \u001b[43m_BarPlotter\u001b[49m\u001b[43m(\u001b[49m\u001b[43mx\u001b[49m\u001b[43m,\u001b[49m\u001b[43m \u001b[49m\u001b[43my\u001b[49m\u001b[43m,\u001b[49m\u001b[43m \u001b[49m\u001b[43mhue\u001b[49m\u001b[43m,\u001b[49m\u001b[43m \u001b[49m\u001b[43mdata\u001b[49m\u001b[43m,\u001b[49m\u001b[43m \u001b[49m\u001b[43morder\u001b[49m\u001b[43m,\u001b[49m\u001b[43m \u001b[49m\u001b[43mhue_order\u001b[49m\u001b[43m,\u001b[49m\n\u001b[0;32m   3183\u001b[0m \u001b[43m                          \u001b[49m\u001b[43mestimator\u001b[49m\u001b[43m,\u001b[49m\u001b[43m \u001b[49m\u001b[43mci\u001b[49m\u001b[43m,\u001b[49m\u001b[43m \u001b[49m\u001b[43mn_boot\u001b[49m\u001b[43m,\u001b[49m\u001b[43m \u001b[49m\u001b[43munits\u001b[49m\u001b[43m,\u001b[49m\u001b[43m \u001b[49m\u001b[43mseed\u001b[49m\u001b[43m,\u001b[49m\n\u001b[0;32m   3184\u001b[0m \u001b[43m                          \u001b[49m\u001b[43morient\u001b[49m\u001b[43m,\u001b[49m\u001b[43m \u001b[49m\u001b[43mcolor\u001b[49m\u001b[43m,\u001b[49m\u001b[43m \u001b[49m\u001b[43mpalette\u001b[49m\u001b[43m,\u001b[49m\u001b[43m \u001b[49m\u001b[43msaturation\u001b[49m\u001b[43m,\u001b[49m\n\u001b[0;32m   3185\u001b[0m \u001b[43m                          \u001b[49m\u001b[43merrcolor\u001b[49m\u001b[43m,\u001b[49m\u001b[43m \u001b[49m\u001b[43merrwidth\u001b[49m\u001b[43m,\u001b[49m\u001b[43m \u001b[49m\u001b[43mcapsize\u001b[49m\u001b[43m,\u001b[49m\u001b[43m \u001b[49m\u001b[43mdodge\u001b[49m\u001b[43m)\u001b[49m\n\u001b[0;32m   3187\u001b[0m     \u001b[38;5;28;01mif\u001b[39;00m ax \u001b[38;5;129;01mis\u001b[39;00m \u001b[38;5;28;01mNone\u001b[39;00m:\n\u001b[0;32m   3188\u001b[0m         ax \u001b[38;5;241m=\u001b[39m plt\u001b[38;5;241m.\u001b[39mgca()\n",
      "File \u001b[1;32m~\\AppData\\Local\\Programs\\Python\\Python310\\lib\\site-packages\\seaborn\\categorical.py:1584\u001b[0m, in \u001b[0;36m_BarPlotter.__init__\u001b[1;34m(self, x, y, hue, data, order, hue_order, estimator, ci, n_boot, units, seed, orient, color, palette, saturation, errcolor, errwidth, capsize, dodge)\u001b[0m\n\u001b[0;32m   1579\u001b[0m \u001b[38;5;28;01mdef\u001b[39;00m \u001b[38;5;21m__init__\u001b[39m(\u001b[38;5;28mself\u001b[39m, x, y, hue, data, order, hue_order,\n\u001b[0;32m   1580\u001b[0m              estimator, ci, n_boot, units, seed,\n\u001b[0;32m   1581\u001b[0m              orient, color, palette, saturation, errcolor,\n\u001b[0;32m   1582\u001b[0m              errwidth, capsize, dodge):\n\u001b[0;32m   1583\u001b[0m     \u001b[38;5;124;03m\"\"\"Initialize the plotter.\"\"\"\u001b[39;00m\n\u001b[1;32m-> 1584\u001b[0m     \u001b[38;5;28;43mself\u001b[39;49m\u001b[38;5;241;43m.\u001b[39;49m\u001b[43mestablish_variables\u001b[49m\u001b[43m(\u001b[49m\u001b[43mx\u001b[49m\u001b[43m,\u001b[49m\u001b[43m \u001b[49m\u001b[43my\u001b[49m\u001b[43m,\u001b[49m\u001b[43m \u001b[49m\u001b[43mhue\u001b[49m\u001b[43m,\u001b[49m\u001b[43m \u001b[49m\u001b[43mdata\u001b[49m\u001b[43m,\u001b[49m\u001b[43m \u001b[49m\u001b[43morient\u001b[49m\u001b[43m,\u001b[49m\n\u001b[0;32m   1585\u001b[0m \u001b[43m                             \u001b[49m\u001b[43morder\u001b[49m\u001b[43m,\u001b[49m\u001b[43m \u001b[49m\u001b[43mhue_order\u001b[49m\u001b[43m,\u001b[49m\u001b[43m \u001b[49m\u001b[43munits\u001b[49m\u001b[43m)\u001b[49m\n\u001b[0;32m   1586\u001b[0m     \u001b[38;5;28mself\u001b[39m\u001b[38;5;241m.\u001b[39mestablish_colors(color, palette, saturation)\n\u001b[0;32m   1587\u001b[0m     \u001b[38;5;28mself\u001b[39m\u001b[38;5;241m.\u001b[39mestimate_statistic(estimator, ci, n_boot, seed)\n",
      "File \u001b[1;32m~\\AppData\\Local\\Programs\\Python\\Python310\\lib\\site-packages\\seaborn\\categorical.py:153\u001b[0m, in \u001b[0;36m_CategoricalPlotter.establish_variables\u001b[1;34m(self, x, y, hue, data, orient, order, hue_order, units)\u001b[0m\n\u001b[0;32m    151\u001b[0m     \u001b[38;5;28;01mif\u001b[39;00m \u001b[38;5;28misinstance\u001b[39m(var, \u001b[38;5;28mstr\u001b[39m):\n\u001b[0;32m    152\u001b[0m         err \u001b[38;5;241m=\u001b[39m \u001b[38;5;124m\"\u001b[39m\u001b[38;5;124mCould not interpret input \u001b[39m\u001b[38;5;124m'\u001b[39m\u001b[38;5;132;01m{}\u001b[39;00m\u001b[38;5;124m'\u001b[39m\u001b[38;5;124m\"\u001b[39m\u001b[38;5;241m.\u001b[39mformat(var)\n\u001b[1;32m--> 153\u001b[0m         \u001b[38;5;28;01mraise\u001b[39;00m \u001b[38;5;167;01mValueError\u001b[39;00m(err)\n\u001b[0;32m    155\u001b[0m \u001b[38;5;66;03m# Figure out the plotting orientation\u001b[39;00m\n\u001b[0;32m    156\u001b[0m orient \u001b[38;5;241m=\u001b[39m infer_orient(\n\u001b[0;32m    157\u001b[0m     x, y, orient, require_numeric\u001b[38;5;241m=\u001b[39m\u001b[38;5;28mself\u001b[39m\u001b[38;5;241m.\u001b[39mrequire_numeric\n\u001b[0;32m    158\u001b[0m )\n",
      "\u001b[1;31mValueError\u001b[0m: Could not interpret input 'abbrev'"
     ]
    },
    {
     "data": {
      "image/png": "[encoded data removed]",
      "text/plain": [
       "<Figure size 432x1080 with 1 Axes>"
      ]
     },
     "metadata": {
      "needs_background": "light"
     },
     "output_type": "display_data"
    }
   ],
   "source": [
    "#Drama  Romance  Music  Sci-Fi  Thriller  Action  Adventure  Crime  Horror  Musical  Biography  History  Mystery  Fantasy  Family  Sport  War  Animation \n",
    "#Documentary  Western  Short  N/A  Reality-TV  News  Film-Noir\n",
    "f, ax = plt.subplots(figsize=(6, 15))\n",
    "list_items_per = ['Comedy', 'Drama', 'Romance', 'Music', 'Sci-Fi', 'Thriller', 'Action', 'Adventure',  'Crime', 'Horror', 'Musical', 'Biography']\n",
    "faces = final_dataset.sort_values(\"Faces\", ascending=False)\n",
    "sns.set_color_codes(\"muted\")\n",
    "sns.barplot(x=\"Faces\", y=\"\", data=faces,\n",
    "            label=\"genre\", color=\"b\")\n",
    "ax.legend(ncol=2, loc=\"lower right\", frameon=True)\n",
    "ax.set(xlim=(0, 24), ylabel=\"\",\n",
    "       xlabel=\"Automobile collisions per billion miles\")\n",
    "sns.despine(left=True, bottom=True)"
   ]
  },
  {
   "cell_type": "code",
   "execution_count": 204,
   "id": "5bea8e1e",
   "metadata": {},
   "outputs": [
    {
     "name": "stdout",
     "output_type": "stream",
     "text": [
      "      Comedy  Drama  Romance  Music  Sci-Fi  Thriller  Action  Adventure  \\\n",
      "1          0      1        1      1       0         0       0          0   \n",
      "5          0      0        0      0       0         1       1          0   \n",
      "8          1      1        0      0       0         0       0          0   \n",
      "13         0      0        0      0       0         0       0          0   \n",
      "14         0      1        0      0       0         0       1          0   \n",
      "...      ...    ...      ...    ...     ...       ...     ...        ...   \n",
      "8259       0      0        0      0       0         0       0          0   \n",
      "8264       1      0        0      0       0         0       1          1   \n",
      "8266       0      0        0      0       0         0       0          0   \n",
      "8267       1      0        0      0       0         0       0          0   \n",
      "8268       1      0        0      0       0         0       0          0   \n",
      "\n",
      "      Crime  Horror  ...  Number_of_indian  Number_of_neutral  \\\n",
      "1         0       0  ...                 0                  0   \n",
      "5         0       0  ...                 0                  0   \n",
      "8         1       0  ...                 0                  0   \n",
      "13        0       1  ...                 0                  0   \n",
      "14        1       0  ...                 0                  0   \n",
      "...     ...     ...  ...               ...                ...   \n",
      "8259      0       0  ...                 0                  0   \n",
      "8264      0       0  ...                 0                  0   \n",
      "8266      0       1  ...                 0                  0   \n",
      "8267      0       0  ...                 0                  0   \n",
      "8268      0       0  ...                 0                  0   \n",
      "\n",
      "      Number_of_happy  Number_of_sad  Number_of_surprise  Number_of_fear  \\\n",
      "1                   0              1                   0               0   \n",
      "5                   0              1                   0               0   \n",
      "8                   0              0                   0               0   \n",
      "13                  0              0                   0               0   \n",
      "14                  0              0                   0               0   \n",
      "...               ...            ...                 ...             ...   \n",
      "8259                0              2                   0               0   \n",
      "8264                0              0                   0               0   \n",
      "8266                0              0                   0               0   \n",
      "8267                0              0                   0               0   \n",
      "8268                0              0                   0               0   \n",
      "\n",
      "      Number_of_angry  Number_of_disgust  Text_bottom  Text_top  \n",
      "1                   0                  0            0         1  \n",
      "5                   0                  0            1         1  \n",
      "8                   0                  0            0         0  \n",
      "13                  0                  0            0         0  \n",
      "14                  0                  0            0         1  \n",
      "...               ...                ...          ...       ...  \n",
      "8259                0                  0            0         0  \n",
      "8264                0                  0            1         0  \n",
      "8266                0                  0            0         1  \n",
      "8267                0                  0            0         0  \n",
      "8268                0                  0            0         1  \n",
      "\n",
      "[2056 rows x 48 columns]\n"
     ]
    }
   ],
   "source": [
    "data = final_dataset.query('')\n",
    "\n",
    "print(data)"
   ]
  },
  {
   "cell_type": "code",
   "execution_count": 306,
   "id": "d7478a04",
   "metadata": {},
   "outputs": [
    {
     "name": "stdout",
     "output_type": "stream",
     "text": [
      "26\n"
     ]
    },
    {
     "data": {
      "text/html": [
       "<div>\n",
       "<style scoped>\n",
       "    .dataframe tbody tr th:only-of-type {\n",
       "        vertical-align: middle;\n",
       "    }\n",
       "\n",
       "    .dataframe tbody tr th {\n",
       "        vertical-align: top;\n",
       "    }\n",
       "\n",
       "    .dataframe thead th {\n",
       "        text-align: right;\n",
       "    }\n",
       "</style>\n",
       "<table border=\"1\" class=\"dataframe\">\n",
       "  <thead>\n",
       "    <tr style=\"text-align: right;\">\n",
       "      <th></th>\n",
       "      <th>Comedy</th>\n",
       "      <th>Drama</th>\n",
       "      <th>Romance</th>\n",
       "      <th>Music</th>\n",
       "      <th>Sci-Fi</th>\n",
       "      <th>Thriller</th>\n",
       "      <th>Action</th>\n",
       "      <th>Adventure</th>\n",
       "      <th>Crime</th>\n",
       "      <th>Horror</th>\n",
       "      <th>...</th>\n",
       "      <th>War</th>\n",
       "      <th>Animation</th>\n",
       "      <th>Documentary</th>\n",
       "      <th>Western</th>\n",
       "      <th>Short</th>\n",
       "      <th>N/A</th>\n",
       "      <th>Reality-TV</th>\n",
       "      <th>News</th>\n",
       "      <th>Film-Noir</th>\n",
       "      <th>Faces</th>\n",
       "    </tr>\n",
       "  </thead>\n",
       "  <tbody>\n",
       "    <tr>\n",
       "      <th>9</th>\n",
       "      <td>1</td>\n",
       "      <td>0</td>\n",
       "      <td>0</td>\n",
       "      <td>0</td>\n",
       "      <td>0</td>\n",
       "      <td>0</td>\n",
       "      <td>0</td>\n",
       "      <td>1</td>\n",
       "      <td>0</td>\n",
       "      <td>0</td>\n",
       "      <td>...</td>\n",
       "      <td>0</td>\n",
       "      <td>0</td>\n",
       "      <td>0</td>\n",
       "      <td>0</td>\n",
       "      <td>0</td>\n",
       "      <td>0</td>\n",
       "      <td>0</td>\n",
       "      <td>0</td>\n",
       "      <td>0</td>\n",
       "      <td>3</td>\n",
       "    </tr>\n",
       "    <tr>\n",
       "      <th>10</th>\n",
       "      <td>1</td>\n",
       "      <td>0</td>\n",
       "      <td>0</td>\n",
       "      <td>0</td>\n",
       "      <td>1</td>\n",
       "      <td>0</td>\n",
       "      <td>1</td>\n",
       "      <td>0</td>\n",
       "      <td>0</td>\n",
       "      <td>0</td>\n",
       "      <td>...</td>\n",
       "      <td>0</td>\n",
       "      <td>0</td>\n",
       "      <td>0</td>\n",
       "      <td>0</td>\n",
       "      <td>0</td>\n",
       "      <td>0</td>\n",
       "      <td>0</td>\n",
       "      <td>0</td>\n",
       "      <td>0</td>\n",
       "      <td>2</td>\n",
       "    </tr>\n",
       "    <tr>\n",
       "      <th>11</th>\n",
       "      <td>1</td>\n",
       "      <td>1</td>\n",
       "      <td>0</td>\n",
       "      <td>0</td>\n",
       "      <td>0</td>\n",
       "      <td>0</td>\n",
       "      <td>0</td>\n",
       "      <td>0</td>\n",
       "      <td>0</td>\n",
       "      <td>0</td>\n",
       "      <td>...</td>\n",
       "      <td>0</td>\n",
       "      <td>0</td>\n",
       "      <td>0</td>\n",
       "      <td>0</td>\n",
       "      <td>0</td>\n",
       "      <td>0</td>\n",
       "      <td>0</td>\n",
       "      <td>0</td>\n",
       "      <td>0</td>\n",
       "      <td>8</td>\n",
       "    </tr>\n",
       "  </tbody>\n",
       "</table>\n",
       "<p>3 rows × 27 columns</p>\n",
       "</div>"
      ],
      "text/plain": [
       "    Comedy  Drama  Romance  Music  Sci-Fi  Thriller  Action  Adventure  Crime  \\\n",
       "9        1      0        0      0       0         0       0          1      0   \n",
       "10       1      0        0      0       1         0       1          0      0   \n",
       "11       1      1        0      0       0         0       0          0      0   \n",
       "\n",
       "    Horror  ...  War  Animation  Documentary  Western  Short  N/A  Reality-TV  \\\n",
       "9        0  ...    0          0            0        0      0    0           0   \n",
       "10       0  ...    0          0            0        0      0    0           0   \n",
       "11       0  ...    0          0            0        0      0    0           0   \n",
       "\n",
       "    News  Film-Noir  Faces  \n",
       "9      0          0      3  \n",
       "10     0          0      2  \n",
       "11     0          0      8  \n",
       "\n",
       "[3 rows x 27 columns]"
      ]
     },
     "execution_count": 306,
     "metadata": {},
     "output_type": "execute_result"
    }
   ],
   "source": [
    "genre_string = \"Comedy  Drama  Romance  Music  Sci-Fi  Thriller  Action  Adventure  Crime  Horror  Musical  Biography  History  Mystery  Fantasy  Family  Sport  War  Animation  Documentary  Western  Short  N/A  Reality-TV  News  Film-Noir Faces\"\n",
    "genre_string_plot = \"Comedy  Drama  Romance  Music  Sci-Fi  Thriller  Action  Adventure  Crime  Horror  Musical  Biography  History  Mystery  Fantasy  Family  Sport  War  Animation  Documentary  Western  Short  N/A  Reality-TV  News  Film-Noir\"\n",
    "genre_table = genre_string.split()\n",
    "genre_string_plot = genre_string_plot.split()\n",
    "n = len(genre_string_plot)\n",
    "print(n)\n",
    "number_face_per_genre = final_dataset[genre_table]\n",
    "#number_face_per_genre.head(5)\n",
    "number_face = number_face[1:4]\n",
    "number_face.head()"
   ]
  },
  {
   "cell_type": "code",
   "execution_count": 19,
   "id": "df8a3507",
   "metadata": {},
   "outputs": [
    {
     "name": "stdout",
     "output_type": "stream",
     "text": [
      "[[0.77165542 0.05676505 0.48527454 ... 0.         0.         1.        ]\n",
      " [0.11009984 0.65622836 0.24079384 ... 0.         0.         1.        ]\n",
      " [0.33495659 0.87595351 0.68970231 ... 0.         0.         1.        ]\n",
      " ...\n",
      " [0.35850283 0.89477399 0.66479166 ... 0.         1.         1.        ]\n",
      " [0.15517992 0.7300416  0.5179581  ... 0.         0.         0.        ]\n",
      " [0.66463282 0.11340311 0.94246652 ... 0.         0.         0.        ]]\n"
     ]
    },
    {
     "name": "stderr",
     "output_type": "stream",
     "text": [
      "C:\\Users\\georges\\AppData\\Local\\Temp\\ipykernel_18296\\3340717662.py:6: DeprecationWarning: `np.float` is a deprecated alias for the builtin `float`. To silence this warning, use `float` by itself. Doing this will not modify any behavior and is safe. If you specifically wanted the numpy scalar type, use `np.float64` here.\n",
      "Deprecated in NumPy 1.20; for more details and guidance: https://numpy.org/devdocs/release/1.20.0-notes.html#deprecations\n",
      "  vector = np.vectorize(np.float)\n"
     ]
    },
    {
     "data": {
      "text/html": [
       "<div>\n",
       "<style scoped>\n",
       "    .dataframe tbody tr th:only-of-type {\n",
       "        vertical-align: middle;\n",
       "    }\n",
       "\n",
       "    .dataframe tbody tr th {\n",
       "        vertical-align: top;\n",
       "    }\n",
       "\n",
       "    .dataframe thead th {\n",
       "        text-align: right;\n",
       "    }\n",
       "</style>\n",
       "<table border=\"1\" class=\"dataframe\">\n",
       "  <thead>\n",
       "    <tr style=\"text-align: right;\">\n",
       "      <th></th>\n",
       "      <th>Color_1</th>\n",
       "      <th>Color_2</th>\n",
       "      <th>Color_3</th>\n",
       "      <th>Faces</th>\n",
       "      <th>Number_man</th>\n",
       "      <th>Number_woman</th>\n",
       "      <th>Average_age</th>\n",
       "      <th>Number_of_asian</th>\n",
       "      <th>Number_of_white</th>\n",
       "      <th>Number_of_black</th>\n",
       "      <th>...</th>\n",
       "      <th>Number_of_indian</th>\n",
       "      <th>Number_of_neutral</th>\n",
       "      <th>Number_of_happy</th>\n",
       "      <th>Number_of_sad</th>\n",
       "      <th>Number_of_surprise</th>\n",
       "      <th>Number_of_fear</th>\n",
       "      <th>Number_of_angry</th>\n",
       "      <th>Number_of_disgust</th>\n",
       "      <th>Text_bottom</th>\n",
       "      <th>Text_top</th>\n",
       "    </tr>\n",
       "  </thead>\n",
       "  <tbody>\n",
       "    <tr>\n",
       "      <th>0</th>\n",
       "      <td>0.771655</td>\n",
       "      <td>0.056765</td>\n",
       "      <td>0.485275</td>\n",
       "      <td>0.054054</td>\n",
       "      <td>0.000000</td>\n",
       "      <td>0.166667</td>\n",
       "      <td>0.500000</td>\n",
       "      <td>0.090909</td>\n",
       "      <td>0.033333</td>\n",
       "      <td>0.0</td>\n",
       "      <td>...</td>\n",
       "      <td>0.0</td>\n",
       "      <td>0.055556</td>\n",
       "      <td>0.090909</td>\n",
       "      <td>0.000000</td>\n",
       "      <td>0.00</td>\n",
       "      <td>0.0</td>\n",
       "      <td>0.0</td>\n",
       "      <td>0.0</td>\n",
       "      <td>0.0</td>\n",
       "      <td>1.0</td>\n",
       "    </tr>\n",
       "    <tr>\n",
       "      <th>1</th>\n",
       "      <td>0.110100</td>\n",
       "      <td>0.656228</td>\n",
       "      <td>0.240794</td>\n",
       "      <td>0.027027</td>\n",
       "      <td>0.028571</td>\n",
       "      <td>0.000000</td>\n",
       "      <td>0.441176</td>\n",
       "      <td>0.000000</td>\n",
       "      <td>0.033333</td>\n",
       "      <td>0.0</td>\n",
       "      <td>...</td>\n",
       "      <td>0.0</td>\n",
       "      <td>0.000000</td>\n",
       "      <td>0.000000</td>\n",
       "      <td>0.047619</td>\n",
       "      <td>0.00</td>\n",
       "      <td>0.0</td>\n",
       "      <td>0.0</td>\n",
       "      <td>0.0</td>\n",
       "      <td>0.0</td>\n",
       "      <td>1.0</td>\n",
       "    </tr>\n",
       "    <tr>\n",
       "      <th>2</th>\n",
       "      <td>0.334957</td>\n",
       "      <td>0.875954</td>\n",
       "      <td>0.689702</td>\n",
       "      <td>0.108108</td>\n",
       "      <td>0.114286</td>\n",
       "      <td>0.000000</td>\n",
       "      <td>0.544118</td>\n",
       "      <td>0.000000</td>\n",
       "      <td>0.100000</td>\n",
       "      <td>0.1</td>\n",
       "      <td>...</td>\n",
       "      <td>0.0</td>\n",
       "      <td>0.055556</td>\n",
       "      <td>0.272727</td>\n",
       "      <td>0.000000</td>\n",
       "      <td>0.00</td>\n",
       "      <td>0.0</td>\n",
       "      <td>0.0</td>\n",
       "      <td>0.0</td>\n",
       "      <td>0.0</td>\n",
       "      <td>1.0</td>\n",
       "    </tr>\n",
       "    <tr>\n",
       "      <th>3</th>\n",
       "      <td>0.114295</td>\n",
       "      <td>0.802157</td>\n",
       "      <td>0.395606</td>\n",
       "      <td>0.054054</td>\n",
       "      <td>0.057143</td>\n",
       "      <td>0.000000</td>\n",
       "      <td>0.382353</td>\n",
       "      <td>0.000000</td>\n",
       "      <td>0.066667</td>\n",
       "      <td>0.0</td>\n",
       "      <td>...</td>\n",
       "      <td>0.0</td>\n",
       "      <td>0.000000</td>\n",
       "      <td>0.000000</td>\n",
       "      <td>0.000000</td>\n",
       "      <td>0.25</td>\n",
       "      <td>0.1</td>\n",
       "      <td>0.0</td>\n",
       "      <td>0.0</td>\n",
       "      <td>1.0</td>\n",
       "      <td>0.0</td>\n",
       "    </tr>\n",
       "    <tr>\n",
       "      <th>4</th>\n",
       "      <td>0.894087</td>\n",
       "      <td>0.137817</td>\n",
       "      <td>0.732773</td>\n",
       "      <td>0.054054</td>\n",
       "      <td>0.028571</td>\n",
       "      <td>0.083333</td>\n",
       "      <td>0.588235</td>\n",
       "      <td>0.000000</td>\n",
       "      <td>0.066667</td>\n",
       "      <td>0.0</td>\n",
       "      <td>...</td>\n",
       "      <td>0.0</td>\n",
       "      <td>0.111111</td>\n",
       "      <td>0.000000</td>\n",
       "      <td>0.000000</td>\n",
       "      <td>0.00</td>\n",
       "      <td>0.0</td>\n",
       "      <td>0.0</td>\n",
       "      <td>0.0</td>\n",
       "      <td>1.0</td>\n",
       "      <td>1.0</td>\n",
       "    </tr>\n",
       "  </tbody>\n",
       "</table>\n",
       "<p>5 rows × 22 columns</p>\n",
       "</div>"
      ],
      "text/plain": [
       "    Color_1   Color_2   Color_3     Faces  Number_man  Number_woman  \\\n",
       "0  0.771655  0.056765  0.485275  0.054054    0.000000      0.166667   \n",
       "1  0.110100  0.656228  0.240794  0.027027    0.028571      0.000000   \n",
       "2  0.334957  0.875954  0.689702  0.108108    0.114286      0.000000   \n",
       "3  0.114295  0.802157  0.395606  0.054054    0.057143      0.000000   \n",
       "4  0.894087  0.137817  0.732773  0.054054    0.028571      0.083333   \n",
       "\n",
       "   Average_age  Number_of_asian  Number_of_white  Number_of_black  ...  \\\n",
       "0     0.500000         0.090909         0.033333              0.0  ...   \n",
       "1     0.441176         0.000000         0.033333              0.0  ...   \n",
       "2     0.544118         0.000000         0.100000              0.1  ...   \n",
       "3     0.382353         0.000000         0.066667              0.0  ...   \n",
       "4     0.588235         0.000000         0.066667              0.0  ...   \n",
       "\n",
       "   Number_of_indian  Number_of_neutral  Number_of_happy  Number_of_sad  \\\n",
       "0               0.0           0.055556         0.090909       0.000000   \n",
       "1               0.0           0.000000         0.000000       0.047619   \n",
       "2               0.0           0.055556         0.272727       0.000000   \n",
       "3               0.0           0.000000         0.000000       0.000000   \n",
       "4               0.0           0.111111         0.000000       0.000000   \n",
       "\n",
       "   Number_of_surprise  Number_of_fear  Number_of_angry  Number_of_disgust  \\\n",
       "0                0.00             0.0              0.0                0.0   \n",
       "1                0.00             0.0              0.0                0.0   \n",
       "2                0.00             0.0              0.0                0.0   \n",
       "3                0.25             0.1              0.0                0.0   \n",
       "4                0.00             0.0              0.0                0.0   \n",
       "\n",
       "   Text_bottom  Text_top  \n",
       "0          0.0       1.0  \n",
       "1          0.0       1.0  \n",
       "2          0.0       1.0  \n",
       "3          1.0       0.0  \n",
       "4          1.0       1.0  \n",
       "\n",
       "[5 rows x 22 columns]"
      ]
     },
     "execution_count": 19,
     "metadata": {},
     "output_type": "execute_result"
    }
   ],
   "source": [
    "list_others_columns = ['Color_1', 'Color_2', 'Color_3', 'Faces', 'Number_man', 'Number_woman', 'Average_age', 'Number_of_asian', 'Number_of_white', 'Number_of_black', 'Number_of_latino hispanic', 'Number_of_middle eastern', 'Number_of_indian', 'Number_of_neutral', 'Number_of_happy', 'Number_of_sad', 'Number_of_surprise', 'Number_of_fear', 'Number_of_angry', 'Number_of_disgust', 'Text_bottom', 'Text_top']\n",
    "x_data = final_dataset.drop(uniques_genre,axis=1)\n",
    "y_data = final_dataset[uniques_genre]\n",
    "MinMaxScaler = preprocessing.MinMaxScaler()\n",
    "X_data_minmax = MinMaxScaler.fit_transform(x_data)\n",
    "vector = np.vectorize(np.float)\n",
    "x = X_data_minmax\n",
    "x = vector(x)\n",
    "print(x)\n",
    "data = pd.DataFrame(X_data_minmax,columns=list_others_columns)\n",
    "data.head()"
   ]
  },
  {
   "cell_type": "code",
   "execution_count": 19,
   "id": "8bfb1de8",
   "metadata": {},
   "outputs": [
    {
     "data": {
      "image/png": "[encoded data removed]",
      "text/plain": [
       "<Figure size 432x288 with 1 Axes>"
      ]
     },
     "metadata": {
      "needs_background": "light"
     },
     "output_type": "display_data"
    }
   ],
   "source": []
  },
  {
   "cell_type": "code",
   "execution_count": null,
   "id": "508ec1e6",
   "metadata": {},
   "outputs": [],
   "source": [
    "#PIE CHART : explode pour ressortir le resultat que l'on veut vraiment\n",
    "n_rows = len(x)\n",
    "for row in range(n_rows):\n",
    "    plt.pie(x[row], labels=list_others_columns, autopct=\"%1.0f%%\")\n",
    "plt.show()"
   ]
  },
  {
   "cell_type": "code",
   "execution_count": null,
   "id": "623e3538",
   "metadata": {},
   "outputs": [],
   "source": [
    "X_train, X_test, y_train, y_test = train_test_split(data, y_data,test_size=0.05, random_state = 2)\n",
    "knn_clf=KNeighborsClassifier(algorithm='auto')\n",
    "knn_clf.fit(X_train,y_train)\n",
    "ypred=knn_clf.predict(X_test) #These are the predicted output values"
   ]
  },
  {
   "cell_type": "code",
   "execution_count": null,
   "id": "dcae368f",
   "metadata": {},
   "outputs": [],
   "source": [
    "x = 10\n",
    "print(x)"
   ]
  },
  {
   "cell_type": "code",
   "execution_count": null,
   "id": "2e7796d2",
   "metadata": {},
   "outputs": [],
   "source": [
    "X_train, X_test, y_train, y_test = train_test_split(data, y_data,test_size=0.05, random_state = 2)\n",
    "knn_clf=KNeighborsClassifier(algorithm='auto')\n",
    "knn_clf.fit(X_train,y_train)\n",
    "ypred=knn_clf.predict(X_test) #These are the predicted output values"
   ]
  },
  {
   "cell_type": "code",
   "execution_count": null,
   "id": "9070d563",
   "metadata": {},
   "outputs": [],
   "source": [
    "from sklearn.metrics import classification_report, confusion_matrix, accuracy_score\n",
    "result = confusion_matrix(y_test.values.argmax(axis=1), ypred.argmax(axis=1))\n",
    "print('Confusion Matrix:')\n",
    "print(result)\n",
    "result1 = classification_report(y_test, ypred)\n",
    "print('Classification Report:',)\n",
    "print (result1)\n",
    "result2 = accuracy_score(y_test,ypred)\n",
    "print('Accuracy:',result2)"
   ]
  },
  {
   "cell_type": "code",
   "execution_count": null,
   "id": "72a16f19",
   "metadata": {},
   "outputs": [],
   "source": [
    "import pickle\n",
    "s = pickle.dumps(knn_clf)\n",
    "clf2 = pickle.loads(s)\n",
    "clf2.predict(X_test[1:2])"
   ]
  },
  {
   "cell_type": "code",
   "execution_count": null,
   "id": "eb85fe43",
   "metadata": {},
   "outputs": [],
   "source": [
    "y_test[1:2]"
   ]
  },
  {
   "cell_type": "code",
   "execution_count": null,
   "id": "a610103d",
   "metadata": {},
   "outputs": [],
   "source": [
    "from joblib import dump, load\n",
    "dump(knn_clf, 'model_nostradamovies.joblib') "
   ]
  },
  {
   "cell_type": "code",
   "execution_count": null,
   "id": "e32f9074",
   "metadata": {},
   "outputs": [],
   "source": [
    "with open('../input/nostradamovies-datasets-for-train/model_nostradamovies.joblib', 'rb') as f:\n",
    "    m = load(f)\n",
    "    uv = m.predict(X_test[1:2])\n",
    "    print(uv)\n",
    "    print(type(X_test[1:2]))\n",
    "    print(X_test[1:2])"
   ]
  },
  {
   "cell_type": "code",
   "execution_count": null,
   "id": "e4a19cb2",
   "metadata": {},
   "outputs": [],
   "source": [
    "with open('../input/nostradamovies-datasets-for-train/model_nostradamovies.joblib', 'rb') as f:\n",
    "    m = load(f)\n",
    "    uv = m.predict(X_test[1:2])\n",
    "    print(uv)\n",
    "    print(type(X_test[1:2]))\n",
    "    print(X_test[1:2])"
   ]
  }
 ],
 "metadata": {
  "kernelspec": {
   "display_name": "Python 3 (ipykernel)",
   "language": "python",
   "name": "python3"
  },
  "language_info": {
   "codemirror_mode": {
    "name": "ipython",
    "version": 3
   },
   "file_extension": ".py",
   "mimetype": "text/x-python",
   "name": "python",
   "nbconvert_exporter": "python",
   "pygments_lexer": "ipython3",
   "version": "3.10.2"
  }
 },
 "nbformat": 4,
 "nbformat_minor": 5
}
